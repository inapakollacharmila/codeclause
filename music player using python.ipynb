{
 "cells": [
  {
   "cell_type": "code",
   "execution_count": null,
   "id": "c5057639",
   "metadata": {},
   "outputs": [
    {
     "name": "stdout",
     "output_type": "stream",
     "text": [
      "pygame 2.5.2 (SDL 2.28.3, Python 3.11.3)\n",
      "Hello from the pygame community. https://www.pygame.org/contribute.html\n"
     ]
    }
   ],
   "source": [
    "import pygame as pg\n",
    "import tkinter \n",
    "from tkinter.filedialog import askdirectory \n",
    "import os \n",
    "\n",
    "player = tkinter.Tk()\n",
    "player.title(\"Music Player\")\n",
    "player.geometry(\"310x325\")\n",
    "\n",
    "var = tkinter.StringVar()\n",
    "var.set(\"Select the song to play\")\n",
    "\n",
    "os.chdir(askdirectory())\n",
    "songlist = os.listdir()\n",
    "\n",
    "playing = tkinter.Listbox(player, font=\"Helvetica 12 bold\", width=28, bg=\"black\", fg=\"white\", selectmode=tkinter.SINGLE)\n",
    "\n",
    "for item in songlist:\n",
    "    playing.insert(0, item)\n",
    "\n",
    "pg.init()\n",
    "pg.mixer.init()\n",
    "\n",
    "def play():\n",
    "    pg.mixer.music.load(playing.get(tkinter.ACTIVE))\n",
    "    name = playing.get(tkinter.ACTIVE)\n",
    "    var.set(f\"{name[:16]}...\" if len(name) > 18 else name)\n",
    "    pg.mixer.music.play()\n",
    "\n",
    "def pause():\n",
    "    pg.mixer.music.pause()\n",
    "\n",
    "def resume():\n",
    "    pg.mixer.music.unpause()\n",
    "\n",
    "text = tkinter.Label(player,font=\"Helvetica\",textvariable=var).grid(row=0,columnspan=3)\n",
    "playing.grid(columnspan=3)\n",
    "\n",
    "playB = tkinter.Button(player,width=7,height=1,font=\"Helvetica\",text=\"Play\",command=play,bg=\"lightgreen\").grid(row=2,column=0)\n",
    "pauseB = tkinter.Button(player, width=7, height=1, font=\"Helvetica\", text=\"Pause\", command=pause, bg=\"lightblue\", fg=\"black\").grid(row=2,column=1)\n",
    "resumeB = tkinter.Button(player, width=9, height=1, font=\"Helvetica\", text=\"Resume\", command=resume, bg=\"lightpink\", fg=\"black\").grid(row=2,column=2)\n",
    "\n",
    "player.mainloop()"
   ]
  },
  {
   "cell_type": "code",
   "execution_count": null,
   "id": "2f25111e",
   "metadata": {},
   "outputs": [],
   "source": []
  }
 ],
 "metadata": {
  "kernelspec": {
   "display_name": "Python 3 (ipykernel)",
   "language": "python",
   "name": "python3"
  },
  "language_info": {
   "codemirror_mode": {
    "name": "ipython",
    "version": 3
   },
   "file_extension": ".py",
   "mimetype": "text/x-python",
   "name": "python",
   "nbconvert_exporter": "python",
   "pygments_lexer": "ipython3",
   "version": "3.11.3"
  }
 },
 "nbformat": 4,
 "nbformat_minor": 5
}
